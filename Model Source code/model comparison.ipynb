{
 "cells": [
  {
   "cell_type": "markdown",
   "id": "8dd7adff-e232-4469-8134-de1dd89373f1",
   "metadata": {},
   "source": [
    "# Project"
   ]
  },
  {
   "cell_type": "code",
   "execution_count": 2,
   "id": "d089cd69-fb89-4dd6-9df5-5a8d7ec9ecd5",
   "metadata": {},
   "outputs": [],
   "source": [
    "import numpy as np\n",
    "import pandas as pd\n",
    "\n",
    "from sklearn.metrics import classification_report, confusion_matrix\n",
    "from sklearn.metrics import accuracy_score\n",
    "import seaborn as sns\n",
    "import matplotlib.pyplot as plt\n",
    "%matplotlib inline\n",
    "\n",
    "#Import NLTK for stop words\n",
    "import nltk\n",
    "from nltk.corpus import stopwords\n",
    "from string import punctuation"
   ]
  },
  {
   "cell_type": "code",
   "execution_count": 3,
   "id": "1fba16aa-3999-4744-9b42-19a431c40965",
   "metadata": {},
   "outputs": [],
   "source": [
    "df = pd.read_csv('twitter_training.csv')"
   ]
  },
  {
   "cell_type": "markdown",
   "id": "72e4c995-ca67-4a83-b08a-8645c0e2fbf7",
   "metadata": {},
   "source": [
    "## Preprocessing"
   ]
  },
  {
   "cell_type": "code",
   "execution_count": 4,
   "id": "ad5a15fc-944e-46ee-b7a5-56e0e9dcacd6",
   "metadata": {},
   "outputs": [
    {
     "data": {
      "text/html": [
       "<div>\n",
       "<style scoped>\n",
       "    .dataframe tbody tr th:only-of-type {\n",
       "        vertical-align: middle;\n",
       "    }\n",
       "\n",
       "    .dataframe tbody tr th {\n",
       "        vertical-align: top;\n",
       "    }\n",
       "\n",
       "    .dataframe thead th {\n",
       "        text-align: right;\n",
       "    }\n",
       "</style>\n",
       "<table border=\"1\" class=\"dataframe\">\n",
       "  <thead>\n",
       "    <tr style=\"text-align: right;\">\n",
       "      <th></th>\n",
       "      <th>2401</th>\n",
       "      <th>Borderlands</th>\n",
       "      <th>Positive</th>\n",
       "      <th>im getting on borderlands and i will murder you all ,</th>\n",
       "    </tr>\n",
       "  </thead>\n",
       "  <tbody>\n",
       "    <tr>\n",
       "      <th>0</th>\n",
       "      <td>2401</td>\n",
       "      <td>Borderlands</td>\n",
       "      <td>Positive</td>\n",
       "      <td>I am coming to the borders and I will kill you...</td>\n",
       "    </tr>\n",
       "    <tr>\n",
       "      <th>1</th>\n",
       "      <td>2401</td>\n",
       "      <td>Borderlands</td>\n",
       "      <td>Positive</td>\n",
       "      <td>im getting on borderlands and i will kill you ...</td>\n",
       "    </tr>\n",
       "    <tr>\n",
       "      <th>2</th>\n",
       "      <td>2401</td>\n",
       "      <td>Borderlands</td>\n",
       "      <td>Positive</td>\n",
       "      <td>im coming on borderlands and i will murder you...</td>\n",
       "    </tr>\n",
       "    <tr>\n",
       "      <th>3</th>\n",
       "      <td>2401</td>\n",
       "      <td>Borderlands</td>\n",
       "      <td>Positive</td>\n",
       "      <td>im getting on borderlands 2 and i will murder ...</td>\n",
       "    </tr>\n",
       "    <tr>\n",
       "      <th>4</th>\n",
       "      <td>2401</td>\n",
       "      <td>Borderlands</td>\n",
       "      <td>Positive</td>\n",
       "      <td>im getting into borderlands and i can murder y...</td>\n",
       "    </tr>\n",
       "  </tbody>\n",
       "</table>\n",
       "</div>"
      ],
      "text/plain": [
       "   2401  Borderlands  Positive  \\\n",
       "0  2401  Borderlands  Positive   \n",
       "1  2401  Borderlands  Positive   \n",
       "2  2401  Borderlands  Positive   \n",
       "3  2401  Borderlands  Positive   \n",
       "4  2401  Borderlands  Positive   \n",
       "\n",
       "  im getting on borderlands and i will murder you all ,  \n",
       "0  I am coming to the borders and I will kill you...     \n",
       "1  im getting on borderlands and i will kill you ...     \n",
       "2  im coming on borderlands and i will murder you...     \n",
       "3  im getting on borderlands 2 and i will murder ...     \n",
       "4  im getting into borderlands and i can murder y...     "
      ]
     },
     "execution_count": 4,
     "metadata": {},
     "output_type": "execute_result"
    }
   ],
   "source": [
    "df.head()"
   ]
  },
  {
   "cell_type": "code",
   "execution_count": 5,
   "id": "ea7b5a24-3582-4299-bda0-0af376124bb8",
   "metadata": {},
   "outputs": [
    {
     "data": {
      "text/html": [
       "<div>\n",
       "<style scoped>\n",
       "    .dataframe tbody tr th:only-of-type {\n",
       "        vertical-align: middle;\n",
       "    }\n",
       "\n",
       "    .dataframe tbody tr th {\n",
       "        vertical-align: top;\n",
       "    }\n",
       "\n",
       "    .dataframe thead th {\n",
       "        text-align: right;\n",
       "    }\n",
       "</style>\n",
       "<table border=\"1\" class=\"dataframe\">\n",
       "  <thead>\n",
       "    <tr style=\"text-align: right;\">\n",
       "      <th></th>\n",
       "      <th>Number</th>\n",
       "      <th>Name</th>\n",
       "      <th>Sentiment</th>\n",
       "      <th>Text</th>\n",
       "    </tr>\n",
       "  </thead>\n",
       "  <tbody>\n",
       "    <tr>\n",
       "      <th>0</th>\n",
       "      <td>2401</td>\n",
       "      <td>Borderlands</td>\n",
       "      <td>Positive</td>\n",
       "      <td>I am coming to the borders and I will kill you...</td>\n",
       "    </tr>\n",
       "    <tr>\n",
       "      <th>1</th>\n",
       "      <td>2401</td>\n",
       "      <td>Borderlands</td>\n",
       "      <td>Positive</td>\n",
       "      <td>im getting on borderlands and i will kill you ...</td>\n",
       "    </tr>\n",
       "    <tr>\n",
       "      <th>2</th>\n",
       "      <td>2401</td>\n",
       "      <td>Borderlands</td>\n",
       "      <td>Positive</td>\n",
       "      <td>im coming on borderlands and i will murder you...</td>\n",
       "    </tr>\n",
       "    <tr>\n",
       "      <th>3</th>\n",
       "      <td>2401</td>\n",
       "      <td>Borderlands</td>\n",
       "      <td>Positive</td>\n",
       "      <td>im getting on borderlands 2 and i will murder ...</td>\n",
       "    </tr>\n",
       "    <tr>\n",
       "      <th>4</th>\n",
       "      <td>2401</td>\n",
       "      <td>Borderlands</td>\n",
       "      <td>Positive</td>\n",
       "      <td>im getting into borderlands and i can murder y...</td>\n",
       "    </tr>\n",
       "  </tbody>\n",
       "</table>\n",
       "</div>"
      ],
      "text/plain": [
       "   Number         Name Sentiment  \\\n",
       "0    2401  Borderlands  Positive   \n",
       "1    2401  Borderlands  Positive   \n",
       "2    2401  Borderlands  Positive   \n",
       "3    2401  Borderlands  Positive   \n",
       "4    2401  Borderlands  Positive   \n",
       "\n",
       "                                                Text  \n",
       "0  I am coming to the borders and I will kill you...  \n",
       "1  im getting on borderlands and i will kill you ...  \n",
       "2  im coming on borderlands and i will murder you...  \n",
       "3  im getting on borderlands 2 and i will murder ...  \n",
       "4  im getting into borderlands and i can murder y...  "
      ]
     },
     "execution_count": 5,
     "metadata": {},
     "output_type": "execute_result"
    }
   ],
   "source": [
    "df.columns = ['Number' , 'Name','Sentiment','Text']\n",
    "df.head()"
   ]
  },
  {
   "cell_type": "code",
   "execution_count": 6,
   "id": "088a4b55-87f5-4324-bd21-464c246474a0",
   "metadata": {},
   "outputs": [
    {
     "data": {
      "text/html": [
       "<div>\n",
       "<style scoped>\n",
       "    .dataframe tbody tr th:only-of-type {\n",
       "        vertical-align: middle;\n",
       "    }\n",
       "\n",
       "    .dataframe tbody tr th {\n",
       "        vertical-align: top;\n",
       "    }\n",
       "\n",
       "    .dataframe thead th {\n",
       "        text-align: right;\n",
       "    }\n",
       "</style>\n",
       "<table border=\"1\" class=\"dataframe\">\n",
       "  <thead>\n",
       "    <tr style=\"text-align: right;\">\n",
       "      <th></th>\n",
       "      <th>Name</th>\n",
       "      <th>Sentiment</th>\n",
       "      <th>Text</th>\n",
       "    </tr>\n",
       "  </thead>\n",
       "  <tbody>\n",
       "    <tr>\n",
       "      <th>0</th>\n",
       "      <td>Borderlands</td>\n",
       "      <td>Positive</td>\n",
       "      <td>I am coming to the borders and I will kill you...</td>\n",
       "    </tr>\n",
       "    <tr>\n",
       "      <th>1</th>\n",
       "      <td>Borderlands</td>\n",
       "      <td>Positive</td>\n",
       "      <td>im getting on borderlands and i will kill you ...</td>\n",
       "    </tr>\n",
       "    <tr>\n",
       "      <th>2</th>\n",
       "      <td>Borderlands</td>\n",
       "      <td>Positive</td>\n",
       "      <td>im coming on borderlands and i will murder you...</td>\n",
       "    </tr>\n",
       "    <tr>\n",
       "      <th>3</th>\n",
       "      <td>Borderlands</td>\n",
       "      <td>Positive</td>\n",
       "      <td>im getting on borderlands 2 and i will murder ...</td>\n",
       "    </tr>\n",
       "    <tr>\n",
       "      <th>4</th>\n",
       "      <td>Borderlands</td>\n",
       "      <td>Positive</td>\n",
       "      <td>im getting into borderlands and i can murder y...</td>\n",
       "    </tr>\n",
       "  </tbody>\n",
       "</table>\n",
       "</div>"
      ],
      "text/plain": [
       "          Name Sentiment                                               Text\n",
       "0  Borderlands  Positive  I am coming to the borders and I will kill you...\n",
       "1  Borderlands  Positive  im getting on borderlands and i will kill you ...\n",
       "2  Borderlands  Positive  im coming on borderlands and i will murder you...\n",
       "3  Borderlands  Positive  im getting on borderlands 2 and i will murder ...\n",
       "4  Borderlands  Positive  im getting into borderlands and i can murder y..."
      ]
     },
     "execution_count": 6,
     "metadata": {},
     "output_type": "execute_result"
    }
   ],
   "source": [
    "df = df.drop(columns=['Number'])\n",
    "df.head()"
   ]
  },
  {
   "cell_type": "code",
   "execution_count": 7,
   "id": "285c79d2-edf9-4ff0-b8a7-24a093e99539",
   "metadata": {},
   "outputs": [
    {
     "name": "stdout",
     "output_type": "stream",
     "text": [
      "Null value counts before dropping rows:\n",
      "Name           0\n",
      "Sentiment      0\n",
      "Text         686\n",
      "dtype: int64\n",
      "\n",
      "Null value counts after dropping rows with any null values:\n",
      "Name         0\n",
      "Sentiment    0\n",
      "Text         0\n",
      "dtype: int64\n"
     ]
    }
   ],
   "source": [
    "# Check the null value counts in the DataFrame before dropping rows\n",
    "print(\"Null value counts before dropping rows:\")\n",
    "print(df.isnull().sum())\n",
    "\n",
    "# Drop rows where any column has null values\n",
    "df = df.dropna()\n",
    "\n",
    "# Check the null value counts in the cleaned DataFrame\n",
    "print(\"\\nNull value counts after dropping rows with any null values:\")\n",
    "print(df.isnull().sum())\n"
   ]
  },
  {
   "cell_type": "code",
   "execution_count": 8,
   "id": "6e1fa271-cf77-43a7-8ca9-aec532317160",
   "metadata": {},
   "outputs": [
    {
     "name": "stdout",
     "output_type": "stream",
     "text": [
      "(73995, 3)\n"
     ]
    }
   ],
   "source": [
    "print(df.shape)"
   ]
  },
  {
   "cell_type": "code",
   "execution_count": 9,
   "id": "cd63d2ba-8f03-4e61-b75d-e770711ce24c",
   "metadata": {},
   "outputs": [
    {
     "name": "stdout",
     "output_type": "stream",
     "text": [
      "Name         object\n",
      "Sentiment    object\n",
      "Text         object\n",
      "dtype: object\n"
     ]
    }
   ],
   "source": [
    "print(df.dtypes)"
   ]
  },
  {
   "cell_type": "code",
   "execution_count": 10,
   "id": "8f6eed4d-7493-4a9f-932c-e08511a71ffe",
   "metadata": {},
   "outputs": [
    {
     "name": "stdout",
     "output_type": "stream",
     "text": [
      "Sentiment\n",
      "Negative      22358\n",
      "Positive      20654\n",
      "Neutral       18108\n",
      "Irrelevant    12875\n",
      "Name: count, dtype: int64\n"
     ]
    }
   ],
   "source": [
    "sentiment_counts = df['Sentiment'].value_counts()\n",
    "print(sentiment_counts)"
   ]
  },
  {
   "cell_type": "code",
   "execution_count": 11,
   "id": "825c21ab-b45b-41f6-8bdf-613b5d61389a",
   "metadata": {},
   "outputs": [],
   "source": [
    "sentiment_mapping={\"Negative\" : 0}\n",
    "df['Sentiment'] = df['Sentiment'].replace(sentiment_mapping)\n",
    "\n",
    "sentiment_mapping={\"Irrelevant\" : 1}\n",
    "df['Sentiment'] = df['Sentiment'].replace(sentiment_mapping)\n",
    "\n",
    "sentiment_mapping={\"Neutral\" : 2}\n",
    "df['Sentiment'] = df['Sentiment'].replace(sentiment_mapping)\n",
    "\n",
    "sentiment_mapping={\"Positive\" : 3}\n",
    "df['Sentiment'] = df['Sentiment'].replace(sentiment_mapping)"
   ]
  },
  {
   "cell_type": "code",
   "execution_count": 12,
   "id": "8917dbc4-11a6-49f5-b795-39121bb7de04",
   "metadata": {},
   "outputs": [
    {
     "name": "stdout",
     "output_type": "stream",
     "text": [
      "Sentiment\n",
      "0    22358\n",
      "3    20654\n",
      "2    18108\n",
      "1    12875\n",
      "Name: count, dtype: int64\n"
     ]
    }
   ],
   "source": [
    "sentiment_counts = df['Sentiment'].value_counts()\n",
    "print(sentiment_counts)"
   ]
  },
  {
   "cell_type": "code",
   "execution_count": 13,
   "id": "e039264d-d945-440d-8107-630776068665",
   "metadata": {},
   "outputs": [],
   "source": [
    "# df['Name'] = df['Name'].apply(lambda x: x.lower())\n",
    "# df['Text'] = df['Text'].apply(lambda x: x.lower())\n",
    "# df.head()"
   ]
  },
  {
   "cell_type": "markdown",
   "id": "82259ce0-15b2-4eca-a0d8-07916d268f08",
   "metadata": {},
   "source": [
    "## Natural Language Processing"
   ]
  },
  {
   "cell_type": "code",
   "execution_count": 14,
   "id": "bf69e86f-7ced-419d-87d2-9903b6a3a1c3",
   "metadata": {},
   "outputs": [
    {
     "name": "stdout",
     "output_type": "stream",
     "text": [
      "           Name  Sentiment                                               Text\n",
      "0   Borderlands          3                                coming borders kill\n",
      "1   Borderlands          3                        im getting borderlands kill\n",
      "2   Borderlands          3                       im coming borderlands murder\n",
      "3   Borderlands          3                    im getting borderlands 2 murder\n",
      "4   Borderlands          3                      im getting borderlands murder\n",
      "5   Borderlands          3  spent hours making something fun  know HUGE Bo...\n",
      "6   Borderlands          3  spent couple hours something fun   know  huge ...\n",
      "7   Borderlands          3  spent hours something fun   know  HUGE Borderl...\n",
      "8   Borderlands          3  spent hours making something fun  know HUGE Rh...\n",
      "9   Borderlands          3  2010 spent hours making something fun  know HU...\n",
      "10  Borderlands          3                                                   \n",
      "11  Borderlands          2  RockHard La Varlope RARE POWERFUL HANDSOME JAC...\n",
      "12  Borderlands          2  RockHard La Varlope RARE POWERFUL HANDSOME JAC...\n",
      "13  Borderlands          2  RockHard La Varlope RARE POWERFUL HANDSOME JAC...\n",
      "14  Borderlands          2  RockHard La Vita RARE POWERFUL HANDSOME JACKPO...\n",
      "15  Borderlands          2  Live Rock Hard music La la Varlope RARE POWERF...\n",
      "16  Borderlands          2  IHard like RARE LONDON DE HANDSOME 2011 Border...\n",
      "17  Borderlands          3  first borderlands session long time actually r...\n",
      "18  Borderlands          3  first Borderlands session long time actually r...\n",
      "19  Borderlands          3  first borderlands session long time actually r...\n"
     ]
    }
   ],
   "source": [
    "import pandas as pd\n",
    "import nltk\n",
    "from nltk.corpus import stopwords\n",
    "import string\n",
    "import re\n",
    "\n",
    "# Download NLTK resources if not already downloaded\n",
    "#nltk.download('punkt')\n",
    "#nltk.download('stopwords')\n",
    "\n",
    "# Initialize NLTK's stopwords list and punctuation set\n",
    "stop_words = set(stopwords.words('english'))\n",
    "punctuation_set = set(string.punctuation)\n",
    "\n",
    "def remove_stopwords_and_punctuations(text):\n",
    "    # Tokenize the text\n",
    "    tokens = nltk.word_tokenize(text)\n",
    "    \n",
    "    # Filter out tokens that are stopwords or punctuation\n",
    "    filtered_tokens = [token for token in tokens if token.lower() not in stop_words and token.lower() not in punctuation_set]\n",
    "    \n",
    "    # Remove tokens like \"n't\", \"...\"\n",
    "    filtered_text = [re.sub(r'(n\\'t|\\'m|\\'s|\\'re|\\'ll|\\'ve|\\'d|\\.\\.\\.|-)', '', token) for token in filtered_tokens if token]\n",
    "\n",
    "\n",
    "    # Join the filtered tokens back into a string\n",
    "    filtered_text = ' '.join(filtered_text)\n",
    "    \n",
    "    return filtered_text\n",
    "\n",
    "# Apply the function to 'Text' column\n",
    "df['Text'] = df['Text'].apply(remove_stopwords_and_punctuations)\n",
    "\n",
    "# Print the updated DataFrame\n",
    "print(df.head(20))  # Print first 20 rows to check the result"
   ]
  },
  {
   "cell_type": "code",
   "execution_count": 15,
   "id": "104e145d-04b8-485e-aafb-ead88e83884b",
   "metadata": {},
   "outputs": [
    {
     "name": "stdout",
     "output_type": "stream",
     "text": [
      "           Name  Sentiment                                               Text\n",
      "0   Borderlands          3                                coming borders kill\n",
      "1   Borderlands          3                        im getting borderlands kill\n",
      "2   Borderlands          3                       im coming borderlands murder\n",
      "3   Borderlands          3                    im getting borderlands 2 murder\n",
      "4   Borderlands          3                      im getting borderlands murder\n",
      "5   Borderlands          3  spent hours making something fun know huge bor...\n",
      "6   Borderlands          3  spent couple hours something fun know huge bor...\n",
      "7   Borderlands          3  spent hours something fun know huge borderland...\n",
      "8   Borderlands          3  spent hours making something fun know huge rha...\n",
      "9   Borderlands          3  2010 spent hours making something fun know hug...\n",
      "10  Borderlands          3                                                   \n",
      "11  Borderlands          2  rockhard la varlope rare powerful handsome jac...\n",
      "12  Borderlands          2  rockhard la varlope rare powerful handsome jac...\n",
      "13  Borderlands          2  rockhard la varlope rare powerful handsome jac...\n",
      "14  Borderlands          2  rockhard la vita rare powerful handsome jackpo...\n",
      "15  Borderlands          2  live rock hard music la la varlope rare powerf...\n",
      "16  Borderlands          2  ihard like rare london de handsome 2011 border...\n",
      "17  Borderlands          3  first borderlands session long time actually r...\n",
      "18  Borderlands          3  first borderlands session long time actually r...\n",
      "19  Borderlands          3  first borderlands session long time actually r...\n",
      "20  Borderlands          3  first borderlands session long time actually e...\n",
      "21  Borderlands          3  first real borderlands session nice long wait ...\n",
      "22  Borderlands          3  first borderlands session hot row actually rea...\n",
      "23  Borderlands          0  biggest dissappoinment life came year ago fuck...\n",
      "24  Borderlands          0          biggest disappointment life came year ago\n",
      "25  Borderlands          0          biggest disappointment life came year ago\n",
      "26  Borderlands          0  biggest dissappoinment life coming year ago fu...\n",
      "27  Borderlands          0  biggest male dissappoinment life came hanging ...\n",
      "28  Borderlands          0  biggest dissappoinment life came back last yea...\n",
      "29  Borderlands          3  finished borderlands 3 finally yas thank hangi...\n",
      "30  Borderlands          3  finally finally find borderlands 3 yes thank h...\n",
      "31  Borderlands          3  thank hanging everyone fun try get haircut tom...\n",
      "32  Borderlands          3  finished borderlands 3 update yas thank hangin...\n",
      "33  Borderlands          3  finished borderlands 3 finally yas thank every...\n",
      "34  Borderlands          3  finished borderlands 3 finally yas hey hanging...\n",
      "35  Borderlands          0  man gearbox really needs fix dissapointing dro...\n",
      "36  Borderlands          0  man gearbox really needs fix disappointing dro...\n",
      "37  Borderlands          0  man gearbox really needs fix disssapointing dr...\n",
      "38  Borderlands          0  man bethesda really needs fix dissapointing dr...\n",
      "39  Borderlands          0  man gearbox really needs fix dissapointing dro...\n",
      "40  Borderlands          0  unk gearbox really time fix 10 drops new borde...\n",
      "41  Borderlands          2                                check epic streamer\n",
      "42  Borderlands          2                                check epic streamer\n",
      "43  Borderlands          2                              watch epic striptease\n",
      "44  Borderlands          2                                check epic streamer\n",
      "45  Borderlands          2                            check big epic streamer\n",
      "46  Borderlands          2                            check unk epic streamer\n",
      "47  Borderlands          2  blaming sight tardiness little bit borderlands...\n",
      "48  Borderlands          2  bit borderland called work tomorrow morning ca...\n",
      "49  Borderlands          2  guilty sobriety bit borderline called work ear...\n"
     ]
    }
   ],
   "source": [
    "#Convert uppercase letters to lowercase\n",
    "df[\"Text\"] = df[\"Text\"].apply(lambda x: \" \".join(x.lower() for x in x.split()))\n",
    "print(df.head(50))"
   ]
  },
  {
   "cell_type": "code",
   "execution_count": 16,
   "id": "ea592769-a85d-4d3b-a480-39c4927bca23",
   "metadata": {},
   "outputs": [
    {
     "name": "stdout",
     "output_type": "stream",
     "text": [
      "           Name  Sentiment                                               Text\n",
      "0   Borderlands          3                                coming borders kill\n",
      "1   Borderlands          3                        im getting borderlands kill\n",
      "2   Borderlands          3                       im coming borderlands murder\n",
      "3   Borderlands          3                      im getting borderlands murder\n",
      "4   Borderlands          3                      im getting borderlands murder\n",
      "5   Borderlands          3  spent hours making something fun know huge bor...\n",
      "6   Borderlands          3  spent couple hours something fun know huge bor...\n",
      "7   Borderlands          3  spent hours something fun know huge borderland...\n",
      "8   Borderlands          3  spent hours making something fun know huge rha...\n",
      "9   Borderlands          3  spent hours making something fun know huge rha...\n",
      "10  Borderlands          3                                                   \n",
      "11  Borderlands          2  rockhard la varlope rare powerful handsome jac...\n",
      "12  Borderlands          2  rockhard la varlope rare powerful handsome jac...\n",
      "13  Borderlands          2  rockhard la varlope rare powerful handsome jac...\n",
      "14  Borderlands          2  rockhard la vita rare powerful handsome jackpo...\n",
      "15  Borderlands          2  live rock hard music la la varlope rare powerf...\n",
      "16  Borderlands          2  ihard like rare london de handsome borderlands...\n",
      "17  Borderlands          3  first borderlands session long time actually r...\n",
      "18  Borderlands          3  first borderlands session long time actually r...\n",
      "19  Borderlands          3  first borderlands session long time actually r...\n",
      "20  Borderlands          3  first borderlands session long time actually e...\n",
      "21  Borderlands          3  first real borderlands session nice long wait ...\n",
      "22  Borderlands          3  first borderlands session hot row actually rea...\n",
      "23  Borderlands          0  biggest dissappoinment life came year ago fuck...\n",
      "24  Borderlands          0          biggest disappointment life came year ago\n",
      "25  Borderlands          0          biggest disappointment life came year ago\n",
      "26  Borderlands          0  biggest dissappoinment life coming year ago fu...\n",
      "27  Borderlands          0  biggest male dissappoinment life came hanging ...\n",
      "28  Borderlands          0  biggest dissappoinment life came back last yea...\n",
      "29  Borderlands          3  finished borderlands finally yas thank hanging...\n",
      "30  Borderlands          3  finally finally find borderlands yes thank han...\n",
      "31  Borderlands          3  thank hanging everyone fun try get haircut tom...\n",
      "32  Borderlands          3  finished borderlands update yas thank hanging ...\n",
      "33  Borderlands          3  finished borderlands finally yas thank everyon...\n",
      "34  Borderlands          3  finished borderlands finally yas hey hanging f...\n",
      "35  Borderlands          0  man gearbox really needs fix dissapointing dro...\n",
      "36  Borderlands          0  man gearbox really needs fix disappointing dro...\n",
      "37  Borderlands          0  man gearbox really needs fix disssapointing dr...\n",
      "38  Borderlands          0  man bethesda really needs fix dissapointing dr...\n",
      "39  Borderlands          0  man gearbox really needs fix dissapointing dro...\n",
      "40  Borderlands          0  unk gearbox really time fix drops new borderla...\n",
      "41  Borderlands          2                                check epic streamer\n",
      "42  Borderlands          2                                check epic streamer\n",
      "43  Borderlands          2                              watch epic striptease\n",
      "44  Borderlands          2                                check epic streamer\n",
      "45  Borderlands          2                            check big epic streamer\n",
      "46  Borderlands          2                            check unk epic streamer\n",
      "47  Borderlands          2  blaming sight tardiness little bit borderlands...\n",
      "48  Borderlands          2  bit borderland called work tomorrow morning ca...\n",
      "49  Borderlands          2  guilty sobriety bit borderline called work ear...\n"
     ]
    }
   ],
   "source": [
    "from nltk.tokenize import word_tokenize\n",
    "\n",
    "def remove_numbers(text):\n",
    "    # Tokenize the text into words\n",
    "    words = word_tokenize(text)\n",
    "    \n",
    "    # Define a regex pattern to match digits\n",
    "    pattern = re.compile(r'\\d+')\n",
    "    \n",
    "    # Filter out words that are digits\n",
    "    words = [word for word in words if not pattern.match(word)]\n",
    "    \n",
    "    # Join the words back into a single string\n",
    "    clean_text = ' '.join(words)\n",
    "    \n",
    "    return clean_text\n",
    "    \n",
    "df['Text'] = df['Text'].apply(remove_numbers)\n",
    "print(df.head(50))"
   ]
  },
  {
   "cell_type": "markdown",
   "id": "a1da7fd4-f4f0-49b7-83d9-3135cb8eb341",
   "metadata": {},
   "source": [
    "## Train Test Split Data"
   ]
  },
  {
   "cell_type": "code",
   "execution_count": 17,
   "id": "1ac8f9db-cefd-41bd-9e5e-aaeb3b17a772",
   "metadata": {},
   "outputs": [
    {
     "name": "stdout",
     "output_type": "stream",
     "text": [
      "(47356,)\n",
      "(14799,)\n",
      "(11840,)\n",
      "(47356,)\n",
      "(14799,)\n",
      "(11840,)\n"
     ]
    }
   ],
   "source": [
    "from sklearn.model_selection import train_test_split\n",
    "\n",
    "X = df.Text\n",
    "y = df.Sentiment\n",
    "\n",
    "X_train, X_test, y_train, y_test = train_test_split(X, y, test_size=0.2)\n",
    "X_train, X_valid, y_train, y_valid = train_test_split(X_train, y_train, test_size=0.2)\n",
    "\n",
    "print(X_train.shape)\n",
    "print(X_test.shape)\n",
    "print(X_valid.shape)\n",
    "\n",
    "print(y_train.shape)\n",
    "print(y_test.shape)\n",
    "print(y_valid.shape)"
   ]
  },
  {
   "cell_type": "code",
   "execution_count": 18,
   "id": "afa23181-19f0-4f2d-b1b5-93c6ecdcc487",
   "metadata": {},
   "outputs": [],
   "source": [
    "from sklearn.feature_extraction.text import TfidfVectorizer\n",
    "\n",
    "# Convert text data to TF-IDF features\n",
    "vectorizer = TfidfVectorizer()\n",
    "X_train_tfidf = vectorizer.fit_transform(X_train)\n",
    "X_test_tfidf = vectorizer.transform(X_test)\n",
    "X_valid_tfidf = vectorizer.transform(X_valid)"
   ]
  },
  {
   "cell_type": "code",
   "execution_count": 22,
   "id": "1447a13d-3bc6-4206-b745-4ed867bb85f0",
   "metadata": {},
   "outputs": [
    {
     "name": "stdout",
     "output_type": "stream",
     "text": [
      "(47356, 28649)\n",
      "(14799, 28649)\n",
      "(11840, 28649)\n"
     ]
    }
   ],
   "source": [
    "print(X_train_tfidf.shape)\n",
    "print(X_test_tfidf.shape)\n",
    "print(X_valid_tfidf.shape)"
   ]
  },
  {
   "cell_type": "markdown",
   "id": "d0b014c9-c30b-47ca-86ce-25a5534bd3f9",
   "metadata": {},
   "source": [
    "## Machine Learning Algorihtm Train"
   ]
  },
  {
   "cell_type": "markdown",
   "id": "827fa27c-0230-40fd-a6c2-d12a21289066",
   "metadata": {},
   "source": [
    "### GBM"
   ]
  },
  {
   "cell_type": "code",
   "execution_count": 24,
   "id": "f190eee6-19fd-4715-a17b-e8e0c2a453eb",
   "metadata": {},
   "outputs": [
    {
     "name": "stdout",
     "output_type": "stream",
     "text": [
      "Training Accuracy: 86.32%\n",
      "Testing Accuracy: 74.18%\n",
      "Validation Accuracy: 74.38%\n",
      "Classification Report:\n",
      "              precision    recall  f1-score   support\n",
      "\n",
      "           0       0.70      0.86      0.77      4534\n",
      "           1       0.84      0.56      0.67      2574\n",
      "           2       0.78      0.68      0.73      3554\n",
      "           3       0.73      0.77      0.75      4137\n",
      "\n",
      "    accuracy                           0.74     14799\n",
      "   macro avg       0.76      0.72      0.73     14799\n",
      "weighted avg       0.75      0.74      0.74     14799\n",
      "\n",
      "Confusion Matrix:\n",
      " [[3921   98  199  316]\n",
      " [ 483 1442  221  428]\n",
      " [ 626   97 2415  416]\n",
      " [ 592   83  262 3200]]\n"
     ]
    }
   ],
   "source": [
    "from sklearn.ensemble import GradientBoostingClassifier\n",
    "from sklearn.metrics import accuracy_score, classification_report\n",
    "\n",
    "# Initialize and train the Naive Bayes classifier\n",
    "gbm_model = GradientBoostingClassifier(n_estimators=500, learning_rate=0.3, max_depth=3,min_samples_split = 2)\n",
    "gbm_model.fit(X_train_tfidf, y_train)\n",
    "\n",
    "\n",
    "# Predict on the training set\n",
    "y_train_pred = gbm_model.predict(X_train_tfidf)\n",
    "\n",
    "# Predict on the test set\n",
    "y_test_pred = gbm_model.predict(X_test_tfidf)\n",
    "\n",
    "y_valid_pred = gbm_model.predict(X_valid_tfidf)\n",
    "\n",
    "\n",
    "# Evaluate the model\n",
    "train_accuracy = accuracy_score(y_train, y_train_pred)\n",
    "test_accuracy = accuracy_score(y_test, y_test_pred)\n",
    "valid_accuracy = accuracy_score(y_valid, y_valid_pred)\n",
    "classification_rep = classification_report(y_test, y_test_pred)\n",
    "\n",
    "gbm_test_accuracy = test_accuracy\n",
    "\n",
    "print(\"Training Accuracy: {:.2f}%\".format(train_accuracy * 100))\n",
    "print(\"Testing Accuracy: {:.2f}%\".format(test_accuracy * 100))\n",
    "print(\"Validation Accuracy: {:.2f}%\".format(valid_accuracy * 100))\n",
    "print(\"Classification Report:\")\n",
    "print(classification_rep)\n",
    "print(\"Confusion Matrix:\\n\", confusion_matrix(y_test, y_test_pred))"
   ]
  },
  {
   "cell_type": "markdown",
   "id": "9ff75062-08d0-4845-b339-1b5e292c004f",
   "metadata": {},
   "source": [
    "### Decision Tree"
   ]
  },
  {
   "cell_type": "code",
   "execution_count": 26,
   "id": "290e7c48-d9de-4de4-ae78-e7f2533ae563",
   "metadata": {},
   "outputs": [
    {
     "name": "stdout",
     "output_type": "stream",
     "text": [
      "Training Accuracy: 80.42%\n",
      "Testing Accuracy: 68.97%\n",
      "Validation Accuracy: 69.53%\n",
      "Classification Report:\n",
      "              precision    recall  f1-score   support\n",
      "\n",
      "           0       0.55      0.90      0.69      4534\n",
      "           1       0.85      0.49      0.62      2574\n",
      "           2       0.81      0.62      0.70      3554\n",
      "           3       0.83      0.64      0.72      4137\n",
      "\n",
      "    accuracy                           0.69     14799\n",
      "   macro avg       0.76      0.66      0.68     14799\n",
      "weighted avg       0.74      0.69      0.69     14799\n",
      "\n",
      "Confusion Matrix:\n",
      " [[4088   80  187  179]\n",
      " [ 997 1265  144  168]\n",
      " [1077   66 2203  208]\n",
      " [1208   83  195 2651]]\n"
     ]
    }
   ],
   "source": [
    "from sklearn.tree import DecisionTreeClassifier\n",
    "from sklearn.metrics import accuracy_score, classification_report\n",
    "import matplotlib.pyplot as plt\n",
    "from sklearn.tree import plot_tree\n",
    "\n",
    "# Initialize and train the Naive Bayes classifier\n",
    "dt_model =  DecisionTreeClassifier(random_state=42,max_depth = 100 , splitter = 'random' , criterion = 'log_loss' , max_features = None)\n",
    "dt_model.fit(X_train_tfidf, y_train)\n",
    "\n",
    "# Predict on the training set\n",
    "y_train_pred = dt_model.predict(X_train_tfidf)\n",
    "\n",
    "# Predict on the test set\n",
    "y_test_pred = dt_model.predict(X_test_tfidf)\n",
    "\n",
    "y_valid_pred = dt_model.predict(X_valid_tfidf)\n",
    "\n",
    "\n",
    "# Evaluate the model\n",
    "train_accuracy = accuracy_score(y_train, y_train_pred)\n",
    "test_accuracy = accuracy_score(y_test, y_test_pred)\n",
    "valid_accuracy = accuracy_score(y_valid, y_valid_pred)\n",
    "classification_rep = classification_report(y_test, y_test_pred)\n",
    "\n",
    "dt_test_accuracy = test_accuracy\n",
    "\n",
    "\n",
    "print(\"Training Accuracy: {:.2f}%\".format(train_accuracy * 100))\n",
    "print(\"Testing Accuracy: {:.2f}%\".format(test_accuracy * 100))\n",
    "print(\"Validation Accuracy: {:.2f}%\".format(valid_accuracy * 100))\n",
    "print(\"Classification Report:\")\n",
    "print(classification_rep)\n",
    "print(\"Confusion Matrix:\\n\", confusion_matrix(y_test, y_test_pred))"
   ]
  },
  {
   "cell_type": "markdown",
   "id": "fd9ae928-9b04-45fb-bf71-e618759dd31a",
   "metadata": {},
   "source": [
    "### Random Forest"
   ]
  },
  {
   "cell_type": "code",
   "execution_count": 28,
   "id": "863ab229-951d-459a-aa2d-06991e5f10cf",
   "metadata": {},
   "outputs": [
    {
     "name": "stdout",
     "output_type": "stream",
     "text": [
      "Training Accuracy: 87.19%\n",
      "Testing Accuracy: 77.82%\n",
      "Validation Accuracy: 69.53%\n",
      "Classification Report:\n",
      "              precision    recall  f1-score   support\n",
      "\n",
      "           0       0.70      0.94      0.81      4534\n",
      "           1       0.99      0.47      0.63      2574\n",
      "           2       0.89      0.70      0.78      3554\n",
      "           3       0.75      0.86      0.80      4137\n",
      "\n",
      "    accuracy                           0.78     14799\n",
      "   macro avg       0.83      0.74      0.76     14799\n",
      "weighted avg       0.81      0.78      0.77     14799\n",
      "\n",
      "Confusion Matrix:\n",
      " [[4267    1   65  201]\n",
      " [ 672 1200  154  548]\n",
      " [ 645    5 2487  417]\n",
      " [ 482    3   89 3563]]\n"
     ]
    }
   ],
   "source": [
    "import numpy as np\n",
    "from sklearn.datasets import load_iris\n",
    "from sklearn.model_selection import train_test_split\n",
    "from sklearn.ensemble import RandomForestClassifier\n",
    "from sklearn.metrics import accuracy_score, classification_report\n",
    "\n",
    "# Initialize and train the Naive Bayes classifier\n",
    "rf_model = RandomForestClassifier(n_estimators=500,max_depth = 100 , criterion='log_loss', min_samples_split = 10,random_state=42 ,n_jobs=8)\n",
    "rf_model.fit(X_train_tfidf, y_train)\n",
    "\n",
    "# Predict on the training set\n",
    "y_train_pred = rf_model.predict(X_train_tfidf)\n",
    "\n",
    "# Predict on the test set\n",
    "y_test_pred = rf_model.predict(X_test_tfidf)\n",
    "\n",
    "\n",
    "# Evaluate the model\n",
    "train_accuracy = accuracy_score(y_train, y_train_pred)\n",
    "test_accuracy = accuracy_score(y_test, y_test_pred)\n",
    "classification_rep = classification_report(y_test, y_test_pred)\n",
    "\n",
    "rf_test_accuracy = test_accuracy\n",
    "\n",
    "print(\"Training Accuracy: {:.2f}%\".format(train_accuracy * 100))\n",
    "print(\"Testing Accuracy: {:.2f}%\".format(test_accuracy * 100))\n",
    "print(\"Validation Accuracy: {:.2f}%\".format(valid_accuracy * 100))\n",
    "print(\"Classification Report:\")\n",
    "print(classification_rep)\n",
    "print(\"Confusion Matrix:\\n\", confusion_matrix(y_test, y_test_pred))"
   ]
  },
  {
   "cell_type": "markdown",
   "id": "977896e2-75f4-4377-bd37-c5210cc211a1",
   "metadata": {},
   "source": [
    "### SVM"
   ]
  },
  {
   "cell_type": "code",
   "execution_count": 30,
   "id": "8cbaf434-334c-424b-ba77-98b38b4a787a",
   "metadata": {},
   "outputs": [
    {
     "name": "stdout",
     "output_type": "stream",
     "text": [
      "Training Accuracy: 96.57%\n",
      "Testing Accuracy: 90.78%\n",
      "Validation Accuracy: 91.03%\n",
      "Classification Report:\n",
      "              precision    recall  f1-score   support\n",
      "\n",
      "           0       0.92      0.92      0.92      4534\n",
      "           1       0.95      0.87      0.91      2574\n",
      "           2       0.93      0.89      0.91      3554\n",
      "           3       0.86      0.94      0.89      4137\n",
      "\n",
      "    accuracy                           0.91     14799\n",
      "   macro avg       0.91      0.90      0.91     14799\n",
      "weighted avg       0.91      0.91      0.91     14799\n",
      "\n",
      "Confusion Matrix:\n",
      " [[4176   45   71  242]\n",
      " [ 103 2238   65  168]\n",
      " [ 131   39 3152  232]\n",
      " [ 136   42   90 3869]]\n"
     ]
    }
   ],
   "source": [
    " import pandas as pd\n",
    "from sklearn.feature_extraction.text import TfidfVectorizer\n",
    "from sklearn.model_selection import train_test_split\n",
    "from sklearn.svm import SVC\n",
    "from sklearn.metrics import accuracy_score, classification_report\n",
    "\n",
    "# Initialize and train the SVM classifier\n",
    "svm = SVC(kernel = 'rbf', C = 1 , gamma = 'scale' , class_weight = None)\n",
    "svm.fit(X_train_tfidf, y_train)\n",
    "\n",
    "# Predict on the test set\n",
    "train_pred = svm.predict(X_train_tfidf)\n",
    "test_pred = svm.predict(X_test_tfidf)\n",
    "valid_pred = svm.predict(X_valid_tfidf)\n",
    "\n",
    "# Evaluate the classifier\n",
    "train_accuracy = accuracy_score(y_train, train_pred)\n",
    "test_accuracy = accuracy_score(y_test, test_pred)\n",
    "valid_accuracy = accuracy_score(y_valid, valid_pred)\n",
    "report = classification_report(y_test, test_pred)\n",
    "\n",
    "svm_test_accuracy = test_accuracy\n",
    "\n",
    "print(\"Training Accuracy: {:.2f}%\".format(train_accuracy * 100))\n",
    "print(\"Testing Accuracy: {:.2f}%\".format(test_accuracy * 100))\n",
    "print(\"Validation Accuracy: {:.2f}%\".format(valid_accuracy * 100))\n",
    "print(\"Classification Report:\")\n",
    "print(report)\n",
    "print(\"Confusion Matrix:\\n\", confusion_matrix(y_test, test_pred))"
   ]
  },
  {
   "cell_type": "markdown",
   "id": "991f4866-da0e-47aa-81f1-ed7981401c5e",
   "metadata": {},
   "source": [
    "## Comparison"
   ]
  },
  {
   "cell_type": "code",
   "execution_count": 31,
   "id": "4a46a3d3-cfcb-4e55-a69a-2aa2e2b597e2",
   "metadata": {},
   "outputs": [
    {
     "data": {
      "image/png": "[encoded data removed]",
      "text/plain": [
       "<Figure size 1000x600 with 1 Axes>"
      ]
     },
     "metadata": {},
     "output_type": "display_data"
    }
   ],
   "source": [
    "import matplotlib.pyplot as plt\n",
    "\n",
    "\n",
    "# Data\n",
    "algorithms = ['GBM','SVM','Random Forest','Decision Tree' ]\n",
    "accuracies = [gbm_test_accuracy , svm_test_accuracy , rf_test_accuracy, dt_test_accuracy]\n",
    "\n",
    "# Create line plot\n",
    "plt.figure(figsize=(10, 6))\n",
    "plt.plot(algorithms, accuracies, marker='o', linestyle='-', color='skyblue')\n",
    "\n",
    "# Add title and labels\n",
    "plt.title('Algorithm Accuracies')\n",
    "plt.xlabel('Algorithm')\n",
    "plt.ylabel('Accuracy')\n",
    "\n",
    "# Display the plot\n",
    "plt.show()\n"
   ]
  }
 ],
 "metadata": {
  "kernelspec": {
   "display_name": "Python 3 (ipykernel)",
   "language": "python",
   "name": "python3"
  },
  "language_info": {
   "codemirror_mode": {
    "name": "ipython",
    "version": 3
   },
   "file_extension": ".py",
   "mimetype": "text/x-python",
   "name": "python",
   "nbconvert_exporter": "python",
   "pygments_lexer": "ipython3",
   "version": "3.11.7"
  }
 },
 "nbformat": 4,
 "nbformat_minor": 5
}
