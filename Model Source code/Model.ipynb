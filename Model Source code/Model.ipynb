{
 "cells": [
  {
   "cell_type": "markdown",
   "id": "8dd7adff-e232-4469-8134-de1dd89373f1",
   "metadata": {},
   "source": [
    "# Project"
   ]
  },
  {
   "cell_type": "code",
   "execution_count": 35,
   "id": "d089cd69-fb89-4dd6-9df5-5a8d7ec9ecd5",
   "metadata": {},
   "outputs": [],
   "source": [
    "import numpy as np\n",
    "import pandas as pd\n",
    "\n",
    "from sklearn.metrics import classification_report, confusion_matrix\n",
    "from sklearn.metrics import accuracy_score\n",
    "import seaborn as sns\n",
    "import matplotlib.pyplot as plt\n",
    "%matplotlib inline\n",
    "import pickle\n",
    "\n",
    "#Import NLTK for stop words\n",
    "import nltk\n",
    "from nltk.corpus import stopwords\n",
    "from string import punctuation"
   ]
  },
  {
   "cell_type": "code",
   "execution_count": 36,
   "id": "b133118b-392f-4cc2-8971-e8a7dc73f843",
   "metadata": {},
   "outputs": [],
   "source": [
    "# Assuming svm_model are your trained models\n",
    "with open('vectorizer.pkl', 'rb') as vectorizer_file:\n",
    "    vectorizer = pickle.load(vectorizer_file)\n",
    "\n",
    "\n",
    "with open('svm.pkl', 'rb') as svm_file:\n",
    "    svm = pickle.load(svm_file)"
   ]
  },
  {
   "cell_type": "code",
   "execution_count": 51,
   "id": "1fba16aa-3999-4744-9b42-19a431c40965",
   "metadata": {},
   "outputs": [],
   "source": [
    "text = \"I hate you\""
   ]
  },
  {
   "cell_type": "markdown",
   "id": "82259ce0-15b2-4eca-a0d8-07916d268f08",
   "metadata": {},
   "source": [
    "## Natural Language Processing"
   ]
  },
  {
   "cell_type": "code",
   "execution_count": 52,
   "id": "bf69e86f-7ced-419d-87d2-9903b6a3a1c3",
   "metadata": {},
   "outputs": [],
   "source": [
    "import pandas as pd\n",
    "import nltk\n",
    "from nltk.corpus import stopwords\n",
    "import string\n",
    "import re\n",
    "\n",
    "# Download NLTK resources if not already downloaded\n",
    "#nltk.download('punkt')\n",
    "#nltk.download('stopwords')\n",
    "\n",
    "# Initialize NLTK's stopwords list and punctuation set\n",
    "stop_words = set(stopwords.words('english'))\n",
    "punctuation_set = set(string.punctuation)\n",
    "\n",
    "text = text.lower()\n",
    "\n",
    "def remove_stopwords_and_punctuations(text):\n",
    "    # Tokenize the text\n",
    "    tokens = nltk.word_tokenize(text)\n",
    "    \n",
    "    # Filter out tokens that are stopwords or punctuation\n",
    "    filtered_tokens = [token for token in tokens if token.lower() not in stop_words and token.lower() not in punctuation_set]\n",
    "    \n",
    "    # Remove tokens like \"n't\", \"...\"\n",
    "    filtered_text = [re.sub(r'(n\\'t|\\'m|\\'s|\\'re|\\'ll|\\'ve|\\'d|\\.\\.\\.|-)', '', token) for token in filtered_tokens if token]\n",
    "\n",
    "\n",
    "    # Join the filtered tokens back into a string\n",
    "    filtered_text = ' '.join(filtered_text)\n",
    "    \n",
    "    return filtered_text\n",
    "\n",
    "# Apply the function to 'Text' column\n",
    "text = remove_stopwords_and_punctuations(text)"
   ]
  },
  {
   "cell_type": "code",
   "execution_count": 53,
   "id": "ea592769-a85d-4d3b-a480-39c4927bca23",
   "metadata": {},
   "outputs": [],
   "source": [
    "from nltk.tokenize import word_tokenize\n",
    "\n",
    "def remove_numbers(text):\n",
    "    # Tokenize the text into words\n",
    "    words = word_tokenize(text)\n",
    "    \n",
    "    # Define a regex pattern to match digits\n",
    "    pattern = re.compile(r'\\d+')\n",
    "    \n",
    "    # Filter out words that are digits\n",
    "    words = [word for word in words if not pattern.match(word)]\n",
    "    \n",
    "    # Join the words back into a single string\n",
    "    clean_text = ' '.join(words)\n",
    "    \n",
    "    return clean_text\n",
    "    \n",
    "\n",
    "text = remove_numbers(text)"
   ]
  },
  {
   "cell_type": "code",
   "execution_count": 54,
   "id": "fa36baef-be18-4287-b121-549c14f0ee59",
   "metadata": {},
   "outputs": [],
   "source": [
    "text = vectorizer.transform([text])"
   ]
  },
  {
   "cell_type": "code",
   "execution_count": 55,
   "id": "8e46eca8-c738-4a90-8750-03fe36e0d50e",
   "metadata": {},
   "outputs": [
    {
     "name": "stdout",
     "output_type": "stream",
     "text": [
      "28592\n"
     ]
    }
   ],
   "source": [
    "print(len(vectorizer.get_feature_names_out()))"
   ]
  },
  {
   "cell_type": "markdown",
   "id": "2efd244a-8662-4fd7-8b80-d368ddffd554",
   "metadata": {},
   "source": [
    "## Sentiment Analysis"
   ]
  },
  {
   "cell_type": "code",
   "execution_count": 56,
   "id": "287bcc5e-8004-4132-90f6-e330c3cd4ede",
   "metadata": {},
   "outputs": [
    {
     "name": "stdout",
     "output_type": "stream",
     "text": [
      "The predicted class for the input text is: [0]\n"
     ]
    }
   ],
   "source": [
    "# Predict the class using the trained decision tree model\n",
    "predicted_class = svm.predict(text)\n",
    "\n",
    "print(\"The predicted class for the input text is:\", predicted_class)"
   ]
  }
 ],
 "metadata": {
  "kernelspec": {
   "display_name": "Python 3 (ipykernel)",
   "language": "python",
   "name": "python3"
  },
  "language_info": {
   "codemirror_mode": {
    "name": "ipython",
    "version": 3
   },
   "file_extension": ".py",
   "mimetype": "text/x-python",
   "name": "python",
   "nbconvert_exporter": "python",
   "pygments_lexer": "ipython3",
   "version": "3.10.5"
  }
 },
 "nbformat": 4,
 "nbformat_minor": 5
}
